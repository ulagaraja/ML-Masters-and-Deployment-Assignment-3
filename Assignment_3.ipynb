{
  "nbformat": 4,
  "nbformat_minor": 0,
  "metadata": {
    "colab": {
      "name": "Assignment-3.ipynb",
      "provenance": [],
      "collapsed_sections": []
    },
    "kernelspec": {
      "name": "python3",
      "display_name": "Python 3"
    }
  },
  "cells": [
    {
      "cell_type": "markdown",
      "metadata": {
        "id": "YGLv2TLW6p0C",
        "colab_type": "text"
      },
      "source": [
        "Task 1:\n",
        "\n",
        "1.\n",
        "\n",
        "Write a function to compute 5/0 and use try/except to catch the exceptions."
      ]
    },
    {
      "cell_type": "code",
      "metadata": {
        "id": "__QXxWC567Dp",
        "colab_type": "code",
        "outputId": "a666c848-d4e5-4944-84f7-21d0a6127a96",
        "colab": {
          "base_uri": "https://localhost:8080/",
          "height": 34
        }
      },
      "source": [
        "def div(a,b):\n",
        "  try:\n",
        "    output=a/b\n",
        "  except :\n",
        "    print(\"Divided by zero\")\n",
        "  else:\n",
        "    print(\"sucessfull execution\")\n",
        "\n",
        "div(5,0)\n"
      ],
      "execution_count": 0,
      "outputs": [
        {
          "output_type": "stream",
          "text": [
            "Divided by zero\n"
          ],
          "name": "stdout"
        }
      ]
    },
    {
      "cell_type": "markdown",
      "metadata": {
        "id": "whfSr4yI7vTU",
        "colab_type": "text"
      },
      "source": [
        "2.\n",
        "\n",
        "Implement a Python program to generate all sentences where subject is in [\"Americans\",\n",
        "\"Indians\"] and verb is in [\"Play\", \"watch\"] and the object is in [\"Baseball\",\"cricket\"]."
      ]
    },
    {
      "cell_type": "code",
      "metadata": {
        "id": "g7nCTG_u8W8A",
        "colab_type": "code",
        "outputId": "2bcb15ac-af4e-4d3f-e279-fa2eacf7ff37",
        "colab": {
          "base_uri": "https://localhost:8080/",
          "height": 289
        }
      },
      "source": [
        "subject = [\"Americans\",\"Indians\"]\n",
        "verb = [\"Play\",\"watch\"]\n",
        "object = [\"Baseball\",\"cricket\"]\n",
        "\n",
        "for subj in subject:\n",
        "  for ver in verb:\n",
        "    for obj in object:\n",
        "      print(subj+\" \"+ver+\" \"+obj+\"\\n\",)\n"
      ],
      "execution_count": 0,
      "outputs": [
        {
          "output_type": "stream",
          "text": [
            "Americans Play Baseball\n",
            "\n",
            "Americans Play cricket\n",
            "\n",
            "Americans watch Baseball\n",
            "\n",
            "Americans watch cricket\n",
            "\n",
            "Indians Play Baseball\n",
            "\n",
            "Indians Play cricket\n",
            "\n",
            "Indians watch Baseball\n",
            "\n",
            "Indians watch cricket\n",
            "\n"
          ],
          "name": "stdout"
        }
      ]
    },
    {
      "cell_type": "markdown",
      "metadata": {
        "id": "WU_bPq9uwW-w",
        "colab_type": "text"
      },
      "source": [
        "**Task:2**\n",
        "\n",
        "Write a function so that the columns of the output matrix are powers of the input vector.\n",
        "\n",
        "The order of the powers is determined by the increasing boolean argument. Specifically, when\n",
        "increasing is False, the i-th output column is the input vector raised element-wise to the power\n",
        "of N - i - 1.\n",
        "\n",
        "HINT: Such a matrix with a geometric progression in each row is named for Alexandre-\n",
        "Theophile Vandermonde.\n"
      ]
    },
    {
      "cell_type": "code",
      "metadata": {
        "id": "4q_nxkMR5n9G",
        "colab_type": "code",
        "outputId": "c07e20b6-86d9-4550-890d-2a8df2380b9b",
        "colab": {
          "base_uri": "https://localhost:8080/",
          "height": 221
        }
      },
      "source": [
        "def vander(vec,N,inc=False):\n",
        "  output=[]\n",
        "  #calculating matrix for increment operator as FALSE\n",
        "  if(inc==True):\n",
        "    for i in range(0,N):\n",
        "      a=list(map(lambda x:x**i,vec))\n",
        "      output.append(a)\n",
        "\n",
        "  #calculating matrix for increment operator as FALSE\n",
        "  else:\n",
        "    for i in range(N-1,-1,-1):\n",
        "      a=list(map(lambda x:x**i,vec))\n",
        "      output.append(a)\n",
        "      \n",
        "  #Converting rows into columns and printing the matrix\n",
        "  output_mat=list(zip(*output))\n",
        "  print(\"printing vander matrix for vector\"+str(vec)+\"with N as \"+str(N)+\" and increment operator as \"+str(inc))\n",
        "  for row in output_mat:\n",
        "    print(row)\n",
        "\n",
        "\n",
        "a=[1,3,5,7,9]\n",
        "N=4\n",
        "vander(a,N,True)\n",
        "\n",
        "vander(a,N,False)\n"
      ],
      "execution_count": 27,
      "outputs": [
        {
          "output_type": "stream",
          "text": [
            "printing vander matrix for vector[1, 3, 5, 7, 9]with N as 4 and increment operator as True\n",
            "(1, 1, 1, 1)\n",
            "(1, 3, 9, 27)\n",
            "(1, 5, 25, 125)\n",
            "(1, 7, 49, 343)\n",
            "(1, 9, 81, 729)\n",
            "printing vander matrix for vector[1, 3, 5, 7, 9]with N as 4 and increment operator as False\n",
            "(1, 1, 1, 1)\n",
            "(27, 9, 3, 1)\n",
            "(125, 25, 5, 1)\n",
            "(343, 49, 7, 1)\n",
            "(729, 81, 9, 1)\n"
          ],
          "name": "stdout"
        }
      ]
    }
  ]
}